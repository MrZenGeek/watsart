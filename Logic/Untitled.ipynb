{
 "cells": [
  {
   "cell_type": "code",
   "execution_count": 9,
   "metadata": {
    "collapsed": false
   },
   "outputs": [
    {
     "ename": "SyntaxError",
     "evalue": "invalid syntax (<ipython-input-9-c0f4fa09b355>, line 27)",
     "output_type": "error",
     "traceback": [
      "\u001b[0;36m  File \u001b[0;32m\"<ipython-input-9-c0f4fa09b355>\"\u001b[0;36m, line \u001b[0;32m27\u001b[0m\n\u001b[0;31m    except:\u001b[0m\n\u001b[0m         ^\u001b[0m\n\u001b[0;31mSyntaxError\u001b[0m\u001b[0;31m:\u001b[0m invalid syntax\n"
     ]
    }
   ],
   "source": [
    "import os\n",
    "import json\n",
    "from os.path import join, dirname\n",
    "# from dotenv import load_dotenv\n",
    "from watson_developer_cloud import SpeechToTextV1 as SpeechToText\n",
    "import scipy.io.wavfile as wavfile\n",
    "#from recorder.recorder import Recorder\n",
    "import wave\n",
    "from recorder import Recorder\n",
    "#from recorder.recorder import Recorder\n",
    "\n",
    "def VoicetoTextConv(audio_file_input):\n",
    "     try:\n",
    "\n",
    "         stt = SpeechToText(\n",
    "                # username=os.environ.get(\"STT_USERNAME\"),\n",
    "                 # password=os.environ.get(\"STT_PASSWORD\"))\n",
    "                 username=\"a56b6768-f396-4aa3-9c1b-38f516c04767\",\n",
    "                 password=\"FTobWRrz4KOO\")\n",
    "\n",
    "         print(\"Transcribing audio....\\n\")\n",
    "         output_result = stt.recognize(audio_file_input,content_type='audio/wav')\n",
    "         print(len(output_result['results'])\n",
    "         #output_text = output_result['results'][0]['alternatives'][0]['transcript']\n",
    "         #print(\"Text: \" + text + \"\\n\")\n",
    "\n",
    "     except:\n",
    "       print(\"IOError detected, restarting...\")\n",
    "\n",
    "\n",
    "       return output_text\n",
    "\n",
    "\n",
    "\n",
    "if __name__ == '__main__':\n",
    "\n",
    "    #rate, data = wavfile.read()\n",
    "    with open(\"speech.wav\", 'rb') as audio_file:\n",
    "        VoicetoTextConv(audio_file)"
   ]
  },
  {
   "cell_type": "code",
   "execution_count": null,
   "metadata": {
    "collapsed": true
   },
   "outputs": [],
   "source": []
  }
 ],
 "metadata": {
  "kernelspec": {
   "display_name": "Python 3",
   "language": "python",
   "name": "python3"
  },
  "language_info": {
   "codemirror_mode": {
    "name": "ipython",
    "version": 3
   },
   "file_extension": ".py",
   "mimetype": "text/x-python",
   "name": "python",
   "nbconvert_exporter": "python",
   "pygments_lexer": "ipython3",
   "version": "3.6.0"
  }
 },
 "nbformat": 4,
 "nbformat_minor": 2
}
